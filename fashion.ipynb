{
 "cells": [
  {
   "cell_type": "code",
   "execution_count": 80,
   "metadata": {},
   "outputs": [
    {
     "name": "stdout",
     "output_type": "stream",
     "text": [
      "README.md               model_epoch1            t10k-labels-idx1-ubyte\n",
      "fashion-mnist_test.csv  model_epoch2            train-images-idx3-ubyte\n",
      "fashion-mnist_train.csv model_epoch3            train-labels-idx1-ubyte\n",
      "fashion.ipynb           model_epoch4\n",
      "model_epoch0            t10k-images-idx3-ubyte\n"
     ]
    }
   ],
   "source": [
    "!ls\n",
    "!mkdir models"
   ]
  },
  {
   "cell_type": "code",
   "execution_count": 78,
   "metadata": {},
   "outputs": [],
   "source": [
    "#IMPORTS\n",
    "import pandas as pd\n",
    "import numpy as np\n",
    "import idx2numpy\n",
    "import matplotlib.pyplot as plt\n",
    "import torch\n",
    "import torch.nn as nn\n",
    "import torch.nn.functional as F\n",
    "import os\n",
    "label_map = {\n",
    "    0: 'T-shirt/top',\n",
    "    1: 'Trouser',\n",
    "    2: 'Pullover',\n",
    "    3: 'Dress',\n",
    "    4: 'Coat',\n",
    "    5: 'Sandal',\n",
    "    6: 'Shirt',\n",
    "    7: 'Sneaker',\n",
    "    8: 'Bag',\n",
    "    9: 'Ankle boot'\n",
    "}"
   ]
  },
  {
   "cell_type": "code",
   "execution_count": 47,
   "metadata": {},
   "outputs": [],
   "source": [
    "#LOAD CSV DATA\n",
    "#tr_filename = 'fashion-mnist_train.csv'\n",
    "#tr = pd.read_csv(tr_filename)"
   ]
  },
  {
   "cell_type": "code",
   "execution_count": 48,
   "metadata": {},
   "outputs": [],
   "source": [
    "#LOAD IMAGE DATA\n",
    "f = 'train-images-idx3-ubyte'\n",
    "l = 'train-labels-idx1-ubyte'\n",
    "imagearray = idx2numpy.convert_from_file(f)\n",
    "labels = idx2numpy.convert_from_file(l)\n",
    "\n",
    "tf = 't10k-images-idx3-ubyte'\n",
    "tl = 't10k-labels-idx1-ubyte'\n",
    "test_imagearray = idx2numpy.convert_from_file(tf)\n",
    "test_labels = idx2numpy.convert_from_file(tl)"
   ]
  },
  {
   "cell_type": "code",
   "execution_count": 49,
   "metadata": {
    "scrolled": true
   },
   "outputs": [
    {
     "name": "stdout",
     "output_type": "stream",
     "text": [
      "(60000, 28, 28)\n"
     ]
    },
    {
     "data": {
      "image/png": "[encoded data removed]",
      "text/plain": [
       "<Figure size 432x288 with 1 Axes>"
      ]
     },
     "metadata": {
      "needs_background": "light"
     },
     "output_type": "display_data"
    }
   ],
   "source": [
    "plt.imshow(imagearray[30], cmap=plt.cm.binary)\n",
    "print(imagearray.shape)\n",
    "#print(label_map[labels[30]])\n",
    "#print(imagearray[30])"
   ]
  },
  {
   "cell_type": "code",
   "execution_count": 50,
   "metadata": {},
   "outputs": [],
   "source": [
    "#Preprocessing, normalize data\n",
    "class Normalize:\n",
    "    def __init__(self):\n",
    "        self.mean = None\n",
    "        self.std = None\n",
    "    \n",
    "    def fit(self, X):\n",
    "        self.mean = np.mean(X)\n",
    "        self.std = np.std(X)\n",
    "        \n",
    "    def normalize(self, X):\n",
    "        X -= self.mean\n",
    "        X /= self.std\n",
    "        return X"
   ]
  },
  {
   "cell_type": "code",
   "execution_count": 51,
   "metadata": {},
   "outputs": [],
   "source": [
    "imgs = imagearray.copy()\n",
    "lbls = labels.copy()\n",
    "test_imgs = test_imagearray.copy()\n",
    "test_lbls = test_labels.copy()\n",
    "\n",
    "imgs.flags.writeable = True\n",
    "imgs = imgs.astype(np.float64)\n",
    "test_imgs.flags.writeable = True\n",
    "test_imgs = test_imgs.astype(np.float64)\n",
    "\n",
    "scale = Normalize()\n",
    "scale.fit(imgs)\n",
    "\n",
    "imgs = scale.normalize(imgs)\n",
    "test_imgs = scale.normalize(test_imgs)\n",
    "#imgs.dtype=np.float32\n",
    "#test_imgs.dtype = np.float32"
   ]
  },
  {
   "cell_type": "code",
   "execution_count": 52,
   "metadata": {},
   "outputs": [
    {
     "name": "stdout",
     "output_type": "stream",
     "text": [
      "float64\n"
     ]
    }
   ],
   "source": [
    "print(test_imgs.dtype)"
   ]
  },
  {
   "cell_type": "code",
   "execution_count": 53,
   "metadata": {},
   "outputs": [
    {
     "data": {
      "text/plain": [
       "<matplotlib.image.AxesImage at 0x7fd14a8f9850>"
      ]
     },
     "execution_count": 53,
     "metadata": {},
     "output_type": "execute_result"
    },
    {
     "data": {
      "image/png": "[encoded data removed]",
      "text/plain": [
       "<Figure size 432x288 with 1 Axes>"
      ]
     },
     "metadata": {
      "needs_background": "light"
     },
     "output_type": "display_data"
    }
   ],
   "source": [
    "plt.imshow(imgs[30], cmap=plt.cm.binary)"
   ]
  },
  {
   "cell_type": "code",
   "execution_count": 37,
   "metadata": {},
   "outputs": [],
   "source": [
    "#Split training data into training and validation sets\n",
    "def train_val_split(X, y, percent=85):\n",
    "    percent = float(percent)\n",
    "    if(percent > 1): \n",
    "        percent = percent/100\n",
    "    assert X.shape[0] == y.shape[0]\n",
    "    idxs = np.random.permutation(y.shape[0])\n",
    "    i = int(percent*y.shape[0])\n",
    "    train_X, train_y = X[0: i], y[0: i]\n",
    "    val_X, val_y = X[i:], y[i:]\n",
    "    return train_X, train_y, val_X, val_y"
   ]
  },
  {
   "cell_type": "code",
   "execution_count": 10,
   "metadata": {},
   "outputs": [],
   "source": [
    "train_X, train_y, val_X, val_y = train_val_split(imgs, lbls)"
   ]
  },
  {
   "cell_type": "code",
   "execution_count": 11,
   "metadata": {},
   "outputs": [],
   "source": [
    "#Store all hyperparameters here\n",
    "hyperparams = {\n",
    "    'batch_size': 50,\n",
    "    'learning_rate': 1e-4,\n",
    "    'num_epochs': 50,\n",
    "}"
   ]
  },
  {
   "cell_type": "code",
   "execution_count": 95,
   "metadata": {},
   "outputs": [],
   "source": [
    "#Define data loaders to cooperate with torch training loop\n",
    "train_dataset = torch.utils.data.TensorDataset(torch.from_numpy(train_X), torch.from_numpy(train_y))\n",
    "val_dataset = torch.utils.data.TensorDataset(torch.from_numpy(val_X), torch.from_numpy(val_y))\n",
    "tr_loader = torch.utils.data.DataLoader(train_dataset, batch_size=hyperparams['batch_size'], shuffle=True)\n",
    "val_loader = torch.utils.data.DataLoader(val_dataset, batch_size=hyperparams['batch_size'], shuffle=False)\n",
    "\n",
    "#Do we need to define a Dataset & DataLoader for the test dataset?\n",
    "test_dataset = torch.utils.data.TensorDataset(torch.from_numpy(test_imgs), torch.from_numpy(test_lbls))\n",
    "test_loader = torch.utils.data.DataLoader(test_dataset, batch_size=hyperparams['batch_size'], shuffle=False)"
   ]
  },
  {
   "cell_type": "code",
   "execution_count": 65,
   "metadata": {},
   "outputs": [],
   "source": [
    "#Define CNN architecture\n",
    "class CNN(nn.Module):\n",
    "    def __init__(self):\n",
    "        super().__init__()\n",
    "        \n",
    "        self.conv1 = nn.Conv2d(1, 5, 5, 2)\n",
    "        self.conv2 = nn.Conv2d(5, 50, 5, 2)\n",
    "        \n",
    "        self.fc1 = nn.Linear(800, 100)\n",
    "        self.fc2 = nn.Linear(100, 32)\n",
    "        self.fc3 = nn.Linear(32, 10)\n",
    "    \n",
    "    def forward(self, x):\n",
    "        \n",
    "        x = x.view(50, 1, 28, 28)\n",
    "        b, c, h, w = x.shape\n",
    "        #print(x.shape)\n",
    "        #Conv layer 1\n",
    "        x = F.relu(self.conv1(x))\n",
    "        #print(x.shape)\n",
    "        #Conv layer 2\n",
    "        x = F.relu(self.conv2(x))\n",
    "        #print(x.shape)\n",
    "        #Flatten\n",
    "        x = x.view(b, 800)\n",
    "        #print(x.shape)\n",
    "        #Fully connected 1\n",
    "        #z = self.fc1(x)\n",
    "        #print(f'after fc1 shape {z.shape}')\n",
    "        x = F.relu(self.fc1(x))\n",
    "        #print(x.shape)\n",
    "        #Fully connected 2\n",
    "        x = F.relu(self.fc2(x))\n",
    "        #print(x.shape)\n",
    "        #Fully connected 3, (does not apply softmax... yet)\n",
    "        x = self.fc3(x)\n",
    "        \n",
    "        return x\n",
    "\n",
    "#Apply softmax to get predicted label\n",
    "def predict(network_output):\n",
    "    \n",
    "    assert network_output.shape[1] == 10\n",
    "    \n",
    "    pred = F.softmax(network_output, 1)\n",
    "    \n",
    "    return torch.argmax(pred, dim=1)\n",
    "\n",
    "#Load and save model funcs from state_dict\n",
    "def save(model, path):\n",
    "    torch.save(model.state_dict(), path)\n",
    "    \n",
    "def load(path, eval_mode = False):\n",
    "    model = CNN()\n",
    "    model.load_state_dict(torch.load(path))\n",
    "    if eval_mode:\n",
    "        model.eval()   \n",
    "    return model\n",
    "    "
   ]
  },
  {
   "cell_type": "code",
   "execution_count": 82,
   "metadata": {},
   "outputs": [
    {
     "name": "stdout",
     "output_type": "stream",
     "text": [
      "Train loss: 0.6979983013926768\n",
      "Train acc: 0.7398823529411764\n",
      "Val loss: 0.6947623312473297\n",
      "Val acc: 0.7427777777777778\n",
      "Train loss: 0.5394862996596916\n",
      "Train acc: 0.7910196078431373\n",
      "Val loss: 0.5433356086413066\n",
      "Val acc: 0.7897777777777778\n",
      "Train loss: 0.48358774771000823\n",
      "Train acc: 0.8191960784313725\n",
      "Val loss: 0.4957339011960559\n",
      "Val acc: 0.8138888888888889\n",
      "Train loss: 0.4356116902740563\n",
      "Train acc: 0.8432745098039216\n",
      "Val loss: 0.44937517046928405\n",
      "Val acc: 0.8362222222222222\n",
      "Train loss: 0.41135081621799985\n",
      "Train acc: 0.852\n",
      "Val loss: 0.4349177458220058\n",
      "Val acc: 0.8436666666666667\n",
      "Train loss: 0.38451390316819445\n",
      "Train acc: 0.8616666666666667\n",
      "Val loss: 0.4101291788121065\n",
      "Val acc: 0.8513333333333334\n",
      "Train loss: 0.37212417765575295\n",
      "Train acc: 0.8643725490196078\n",
      "Val loss: 0.3957323363257779\n",
      "Val acc: 0.8532222222222222\n",
      "Train loss: 0.36158372683121875\n",
      "Train acc: 0.8667450980392157\n",
      "Val loss: 0.39271933800644343\n",
      "Val acc: 0.8588888888888889\n",
      "Train loss: 0.34249129616746715\n",
      "Train acc: 0.8743529411764706\n",
      "Val loss: 0.38039758760068154\n",
      "Val acc: 0.8598888888888889\n",
      "Train loss: 0.33182140477732114\n",
      "Train acc: 0.8789607843137255\n",
      "Val loss: 0.3732720334496763\n",
      "Val acc: 0.865\n",
      "Train loss: 0.3175468953582002\n",
      "Train acc: 0.8842745098039215\n",
      "Val loss: 0.3618858352303505\n",
      "Val acc: 0.8687777777777778\n",
      "Train loss: 0.313727502707465\n",
      "Train acc: 0.8852941176470588\n",
      "Val loss: 0.3610399407645067\n",
      "Val acc: 0.8697777777777778\n",
      "Train loss: 0.3152987647436413\n",
      "Train acc: 0.8829607843137255\n",
      "Val loss: 0.3625531883703338\n",
      "Val acc: 0.8688888888888889\n",
      "Train loss: 0.29755887761712074\n",
      "Train acc: 0.8915882352941177\n",
      "Val loss: 0.3562286037537787\n",
      "Val acc: 0.8705555555555555\n",
      "Train loss: 0.2868390792067729\n",
      "Train acc: 0.8939411764705882\n",
      "Val loss: 0.3383616443309519\n",
      "Val acc: 0.8773333333333333\n",
      "Train loss: 0.2776611777132048\n",
      "Train acc: 0.8979803921568628\n",
      "Val loss: 0.337116800662544\n",
      "Val acc: 0.8758888888888889\n",
      "Train loss: 0.27148076258599757\n",
      "Train acc: 0.9003529411764706\n",
      "Val loss: 0.3360175359166331\n",
      "Val acc: 0.875\n",
      "Train loss: 0.26035268266557476\n",
      "Train acc: 0.9051176470588236\n",
      "Val loss: 0.3303338076505396\n",
      "Val acc: 0.8812222222222222\n",
      "Train loss: 0.2582604859499078\n",
      "Train acc: 0.906\n",
      "Val loss: 0.3295871066964335\n",
      "Val acc: 0.8788888888888889\n",
      "Train loss: 0.24591339974865026\n",
      "Train acc: 0.9100980392156863\n",
      "Val loss: 0.3228938016212649\n",
      "Val acc: 0.8865555555555555\n",
      "Train loss: 0.2442423320722346\n",
      "Train acc: 0.9110588235294118\n",
      "Val loss: 0.32936336828602686\n",
      "Val acc: 0.8805555555555555\n",
      "Train loss: 0.23716681443300902\n",
      "Train acc: 0.9141764705882353\n",
      "Val loss: 0.3234221785846684\n",
      "Val acc: 0.8832222222222222\n",
      "Train loss: 0.2413153063761545\n",
      "Train acc: 0.9104117647058824\n",
      "Val loss: 0.3295554309255547\n",
      "Val acc: 0.88\n",
      "Train loss: 0.22931147903642235\n",
      "Train acc: 0.9163921568627451\n",
      "Val loss: 0.32865375499758454\n",
      "Val acc: 0.8813333333333333\n",
      "Train loss: 0.2244982824606054\n",
      "Train acc: 0.9182549019607843\n",
      "Val loss: 0.32328639920387003\n",
      "Val acc: 0.881\n"
     ]
    }
   ],
   "source": [
    "#training loop\n",
    "model = CNN()\n",
    "criterion = nn.CrossEntropyLoss()\n",
    "optim = torch.optim.Adam(model.parameters(), lr=hyperparams['learning_rate'])\n",
    "\n",
    "train_loss = []\n",
    "val_loss = []\n",
    "train_acc = []\n",
    "val_acc = []\n",
    "\n",
    "for epoch in range(hyperparams['num_epochs']):\n",
    "    \n",
    "    #Evaluate training batch\n",
    "    for i, (X, y) in enumerate(tr_loader):\n",
    "        X = X.float()\n",
    "        y = y.long()\n",
    "        #Zero out gradients\n",
    "        optim.zero_grad()\n",
    "        \n",
    "        \n",
    "        #Forward pass of training batch\n",
    "        output = model(X)\n",
    "        \n",
    "        #Compute loss of batch\n",
    "        loss = criterion(output, y)\n",
    "        \n",
    "        #Calculate gradients (backprop)\n",
    "        loss.backward()\n",
    "        \n",
    "        #Update parameters (ADAM)\n",
    "        optim.step()\n",
    "    \n",
    "   \n",
    "    \n",
    "    \n",
    "    #Evaluate training AND validation accuracy && loss\n",
    "    y_true, y_pred = [], []\n",
    "    correct, total = 0.0, 0.0\n",
    "    running_loss = []\n",
    "    \n",
    "    for (X, y) in tr_loader:\n",
    "        X = X.float()\n",
    "        y = y.long()\n",
    "        with torch.no_grad():\n",
    "            output = model(X.float())\n",
    "            preds = predict(output)\n",
    "            \n",
    "            y_true.append(y)\n",
    "            y_pred.append(preds)\n",
    "            \n",
    "            total += y.size(0)\n",
    "            correct += (preds == y).sum().item()\n",
    "            \n",
    "            running_loss.append(criterion(output, y).item())\n",
    "    \n",
    "    train_loss.append(np.mean(running_loss))\n",
    "    train_acc.append(correct/total)\n",
    "    \n",
    "    y_true, y_pred = [], []\n",
    "    correct, total = 0.0, 0.0\n",
    "    running_loss = []\n",
    "    for X, y in val_loader:\n",
    "        X = X.float()\n",
    "        y = y.long()\n",
    "        with torch.no_grad():\n",
    "            output = model(X)\n",
    "            preds = predict(output)\n",
    "            \n",
    "            y_true.append(y)\n",
    "            y_pred.append(preds)\n",
    "            \n",
    "            total += y.size(0)\n",
    "            correct += (preds == y).sum().item()\n",
    "            \n",
    "            running_loss.append(criterion(output, y).item())\n",
    "    \n",
    "    val_loss.append(np.mean(running_loss))\n",
    "    val_acc.append(correct/total)\n",
    "    \n",
    "    if epoch % 2 == 0:\n",
    "        print(f'Train loss: {train_loss[-1]}')\n",
    "        print(f'Train acc: {train_acc[-1]}')\n",
    "        print(f'Val loss: {val_loss[-1]}')\n",
    "        print(f'Val acc: {val_acc[-1]}')\n",
    "    \n",
    "    \n",
    "    #Save model\n",
    "    save(model, os.path.join('models', f'model_epoch{epoch}'))"
   ]
  },
  {
   "cell_type": "code",
   "execution_count": 85,
   "metadata": {},
   "outputs": [
    {
     "data": {
      "image/png": "[encoded data removed]",
      "text/plain": [
       "<Figure size 720x360 with 2 Axes>"
      ]
     },
     "metadata": {
      "needs_background": "light"
     },
     "output_type": "display_data"
    }
   ],
   "source": [
    "fig, axes = plt.subplots(1,2, figsize=(10,5)) \n",
    "plt.suptitle('Training') \n",
    "axes[0].set_xlabel('Epoch')\n",
    "axes[0].set_ylabel('Accuracy') \n",
    "axes[1].set_xlabel('Epoch') \n",
    "axes[1].set_ylabel('Loss')\n",
    "x = np.arange(len(train_loss))\n",
    "axes[0].plot(x, train_acc)\n",
    "axes[1].plot(x, train_loss)\n",
    "axes[0].plot(x, val_acc)\n",
    "axes[1].plot(x, val_loss)\n",
    "plt.show()"
   ]
  },
  {
   "cell_type": "code",
   "execution_count": 88,
   "metadata": {},
   "outputs": [
    {
     "name": "stdout",
     "output_type": "stream",
     "text": [
      "Train loss: 0.6301723816328578\n",
      "Train acc: 0.7533\n",
      "Train loss: 0.3170169335686498\n",
      "Train acc: 0.88155\n",
      "Train loss: 0.2513565404133664\n",
      "Train acc: 0.9047166666666666\n",
      "Train loss: 0.20598342294494312\n",
      "Train acc: 0.9209833333333334\n"
     ]
    }
   ],
   "source": [
    "#TEST FULL TRAIN FOR 65 EPOCHS\n",
    "final_model = CNN()\n",
    "criterion = nn.CrossEntropyLoss()\n",
    "optim = torch.optim.Adam(final_model.parameters(), lr=hyperparams['learning_rate'])\n",
    "\n",
    "\n",
    "for epoch in range(65):\n",
    "    \n",
    "    #Evaluate training batch\n",
    "    for i, (X, y) in enumerate(tr_loader):\n",
    "        X = X.float()\n",
    "        y = y.long()\n",
    "        #Zero out gradients\n",
    "        optim.zero_grad()\n",
    "        \n",
    "        \n",
    "        #Forward pass of training batch\n",
    "        output = final_model(X)\n",
    "        \n",
    "        #Compute loss of batch\n",
    "        loss = criterion(output, y)\n",
    "        \n",
    "        #Calculate gradients (backprop)\n",
    "        loss.backward()\n",
    "        \n",
    "        #Update parameters (ADAM)\n",
    "        optim.step()\n",
    "        \n",
    "    for i, (X, y) in enumerate(val_loader):\n",
    "        X = X.float()\n",
    "        y = y.long()\n",
    "        #Zero out gradients\n",
    "        optim.zero_grad()\n",
    "        \n",
    "        \n",
    "        #Forward pass of training batch\n",
    "        output = final_model(X)\n",
    "        \n",
    "        #Compute loss of batch\n",
    "        loss = criterion(output, y)\n",
    "        \n",
    "        #Calculate gradients (backprop)\n",
    "        loss.backward()\n",
    "        \n",
    "        #Update parameters (ADAM)\n",
    "        optim.step()\n",
    "    \n",
    "   \n",
    "    \n",
    "    \n",
    "    #Evaluate training AND validation accuracy && loss\n",
    "    y_true, y_pred = [], []\n",
    "    correct, total = 0.0, 0.0\n",
    "    \n",
    "    \n",
    "    for (X, y) in tr_loader:\n",
    "        X = X.float()\n",
    "        y = y.long()\n",
    "        with torch.no_grad():\n",
    "            output = final_model(X.float())\n",
    "            preds = predict(output)\n",
    "            \n",
    "            y_true.append(y)\n",
    "            y_pred.append(preds)\n",
    "            \n",
    "            total += y.size(0)\n",
    "            correct += (preds == y).sum().item()\n",
    "            \n",
    "            running_loss.append(criterion(output, y).item())\n",
    "    \n",
    "    \n",
    "    \n",
    "    y_true, y_pred = [], []\n",
    "    \n",
    "    running_loss = []\n",
    "    for X, y in val_loader:\n",
    "        X = X.float()\n",
    "        y = y.long()\n",
    "        with torch.no_grad():\n",
    "            output = final_model(X)\n",
    "            preds = predict(output)\n",
    "            \n",
    "            y_true.append(y)\n",
    "            y_pred.append(preds)\n",
    "            \n",
    "            total += y.size(0)\n",
    "            correct += (preds == y).sum().item()\n",
    "            \n",
    "            running_loss.append(criterion(output, y).item())\n",
    "    \n",
    "    tl = np.mean(running_loss)\n",
    "    ta = correct/total\n",
    "    \n",
    "    if epoch % 20 == 0:\n",
    "        print(f'Train loss: {tl}')\n",
    "        print(f'Train acc: {ta}')\n",
    "        \n",
    "    \n",
    "    \n",
    "    #Save model\n",
    "save(final_model, os.path.join('models', f'final_model_65'))"
   ]
  },
  {
   "cell_type": "code",
   "execution_count": 91,
   "metadata": {},
   "outputs": [
    {
     "name": "stdout",
     "output_type": "stream",
     "text": [
      "[9 2 1 ... 8 1 5]\n"
     ]
    }
   ],
   "source": [
    "print(test_lbls)"
   ]
  },
  {
   "cell_type": "code",
   "execution_count": 102,
   "metadata": {},
   "outputs": [
    {
     "name": "stdout",
     "output_type": "stream",
     "text": [
      "Accuracy 0.84\n"
     ]
    }
   ],
   "source": [
    "y_true = []\n",
    "y_pred = []\n",
    "\n",
    "for (X,y) in test_loader:\n",
    "    X = X.float()\n",
    "    y = y.long()\n",
    "    \n",
    "    with torch.no_grad():\n",
    "        output = final_model(X)\n",
    "        preds = predict(output)\n",
    "\n",
    "        y_true += y.tolist()\n",
    "        y_pred += preds.tolist()\n",
    "\n",
    "total = len(y)\n",
    "correct = (preds == y).sum().item()\n",
    "\n",
    "print(f'Accuracy {correct/total}')"
   ]
  },
  {
   "cell_type": "code",
   "execution_count": 113,
   "metadata": {},
   "outputs": [],
   "source": [
    "df = pd.DataFrame(data={'Id':np.arange(1,1+len(y_pred)), 'Label':y_pred})"
   ]
  },
  {
   "cell_type": "code",
   "execution_count": 114,
   "metadata": {},
   "outputs": [
    {
     "data": {
      "text/html": [
       "<div>\n",
       "<style scoped>\n",
       "    .dataframe tbody tr th:only-of-type {\n",
       "        vertical-align: middle;\n",
       "    }\n",
       "\n",
       "    .dataframe tbody tr th {\n",
       "        vertical-align: top;\n",
       "    }\n",
       "\n",
       "    .dataframe thead th {\n",
       "        text-align: right;\n",
       "    }\n",
       "</style>\n",
       "<table border=\"1\" class=\"dataframe\">\n",
       "  <thead>\n",
       "    <tr style=\"text-align: right;\">\n",
       "      <th></th>\n",
       "      <th>Id</th>\n",
       "      <th>Label</th>\n",
       "    </tr>\n",
       "  </thead>\n",
       "  <tbody>\n",
       "    <tr>\n",
       "      <th>0</th>\n",
       "      <td>1</td>\n",
       "      <td>9</td>\n",
       "    </tr>\n",
       "    <tr>\n",
       "      <th>1</th>\n",
       "      <td>2</td>\n",
       "      <td>2</td>\n",
       "    </tr>\n",
       "    <tr>\n",
       "      <th>2</th>\n",
       "      <td>3</td>\n",
       "      <td>1</td>\n",
       "    </tr>\n",
       "    <tr>\n",
       "      <th>3</th>\n",
       "      <td>4</td>\n",
       "      <td>1</td>\n",
       "    </tr>\n",
       "    <tr>\n",
       "      <th>4</th>\n",
       "      <td>5</td>\n",
       "      <td>6</td>\n",
       "    </tr>\n",
       "  </tbody>\n",
       "</table>\n",
       "</div>"
      ],
      "text/plain": [
       "   Id  Label\n",
       "0   1      9\n",
       "1   2      2\n",
       "2   3      1\n",
       "3   4      1\n",
       "4   5      6"
      ]
     },
     "execution_count": 114,
     "metadata": {},
     "output_type": "execute_result"
    }
   ],
   "source": [
    "df.head()"
   ]
  },
  {
   "cell_type": "code",
   "execution_count": 115,
   "metadata": {},
   "outputs": [
    {
     "data": {
      "text/html": [
       "<div>\n",
       "<style scoped>\n",
       "    .dataframe tbody tr th:only-of-type {\n",
       "        vertical-align: middle;\n",
       "    }\n",
       "\n",
       "    .dataframe tbody tr th {\n",
       "        vertical-align: top;\n",
       "    }\n",
       "\n",
       "    .dataframe thead th {\n",
       "        text-align: right;\n",
       "    }\n",
       "</style>\n",
       "<table border=\"1\" class=\"dataframe\">\n",
       "  <thead>\n",
       "    <tr style=\"text-align: right;\">\n",
       "      <th></th>\n",
       "      <th>Id</th>\n",
       "      <th>Label</th>\n",
       "    </tr>\n",
       "  </thead>\n",
       "  <tbody>\n",
       "    <tr>\n",
       "      <th>9995</th>\n",
       "      <td>9996</td>\n",
       "      <td>9</td>\n",
       "    </tr>\n",
       "    <tr>\n",
       "      <th>9996</th>\n",
       "      <td>9997</td>\n",
       "      <td>1</td>\n",
       "    </tr>\n",
       "    <tr>\n",
       "      <th>9997</th>\n",
       "      <td>9998</td>\n",
       "      <td>8</td>\n",
       "    </tr>\n",
       "    <tr>\n",
       "      <th>9998</th>\n",
       "      <td>9999</td>\n",
       "      <td>1</td>\n",
       "    </tr>\n",
       "    <tr>\n",
       "      <th>9999</th>\n",
       "      <td>10000</td>\n",
       "      <td>5</td>\n",
       "    </tr>\n",
       "  </tbody>\n",
       "</table>\n",
       "</div>"
      ],
      "text/plain": [
       "         Id  Label\n",
       "9995   9996      9\n",
       "9996   9997      1\n",
       "9997   9998      8\n",
       "9998   9999      1\n",
       "9999  10000      5"
      ]
     },
     "execution_count": 115,
     "metadata": {},
     "output_type": "execute_result"
    }
   ],
   "source": [
    "df.tail()"
   ]
  },
  {
   "cell_type": "code",
   "execution_count": 116,
   "metadata": {},
   "outputs": [],
   "source": [
    "df.to_csv('submission.csv', index=False)"
   ]
  },
  {
   "cell_type": "code",
   "execution_count": null,
   "metadata": {},
   "outputs": [],
   "source": []
  }
 ],
 "metadata": {
  "kernelspec": {
   "display_name": "Python 3",
   "language": "python",
   "name": "python3"
  },
  "language_info": {
   "codemirror_mode": {
    "name": "ipython",
    "version": 3
   },
   "file_extension": ".py",
   "mimetype": "text/x-python",
   "name": "python",
   "nbconvert_exporter": "python",
   "pygments_lexer": "ipython3",
   "version": "3.7.9"
  }
 },
 "nbformat": 4,
 "nbformat_minor": 4
}
