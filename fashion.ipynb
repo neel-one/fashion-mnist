{
 "cells": [
  {
   "cell_type": "code",
   "execution_count": 17,
   "metadata": {},
   "outputs": [
    {
     "name": "stdout",
     "output_type": "stream",
     "text": [
      "fashion-mnist_test.csv  fashion.ipynb           t10k-labels-idx1-ubyte\n",
      "fashion-mnist_train.csv t10k-images-idx3-ubyte\n"
     ]
    }
   ],
   "source": [
    "!ls"
   ]
  },
  {
   "cell_type": "code",
   "execution_count": 45,
   "metadata": {},
   "outputs": [],
   "source": [
    "#IMPORTS\n",
    "import pandas as pd\n",
    "import numpy as np\n",
    "import idx2numpy\n",
    "import matplotlib.pyplot as plt\n",
    "import torch\n",
    "import torch.nn as nn\n",
    "import torch.nn.functional as F\n",
    "label_map = {\n",
    "    0: 'T-shirt/top',\n",
    "    1: 'Trouser',\n",
    "    2: 'Pullover',\n",
    "    3: 'Dress',\n",
    "    4: 'Coat',\n",
    "    5: 'Sandal',\n",
    "    6: 'Shirt',\n",
    "    7: 'Sneaker',\n",
    "    8: 'Bag',\n",
    "    9: 'Ankle boot'\n",
    "}"
   ]
  },
  {
   "cell_type": "code",
   "execution_count": 35,
   "metadata": {},
   "outputs": [],
   "source": [
    "#LOAD CSV DATA\n",
    "#tr_filename = 'fashion-mnist_train.csv'\n",
    "#tr = pd.read_csv(tr_filename)"
   ]
  },
  {
   "cell_type": "code",
   "execution_count": 36,
   "metadata": {},
   "outputs": [],
   "source": [
    "#LOAD IMAGE DATA\n",
    "f = 'train-images-idx3-ubyte'\n",
    "l = 'train-labels-idx1-ubyte'\n",
    "imagearray = idx2numpy.convert_from_file(f)\n",
    "labels = idx2numpy.convert_from_file(l)\n",
    "\n",
    "tf = 't10k-images-idx3-ubyte'\n",
    "tl = 't10k-labels-idx1-ubyte'\n",
    "test_imagearray = idx2numpy.convert_from_file(tf)\n",
    "test_labels = idx2numpy.convert_from_file(tl)"
   ]
  },
  {
   "cell_type": "code",
   "execution_count": 37,
   "metadata": {
    "scrolled": true
   },
   "outputs": [
    {
     "name": "stdout",
     "output_type": "stream",
     "text": [
      "(60000, 28, 28)\n"
     ]
    },
    {
     "data": {
      "image/png": "[encoded data removed]",
      "text/plain": [
       "<Figure size 432x288 with 1 Axes>"
      ]
     },
     "metadata": {
      "needs_background": "light"
     },
     "output_type": "display_data"
    }
   ],
   "source": [
    "plt.imshow(imagearray[30], cmap=plt.cm.binary)\n",
    "print(imagearray.shape)\n",
    "#print(label_map[labels[30]])\n",
    "#print(imagearray[30])"
   ]
  },
  {
   "cell_type": "code",
   "execution_count": 38,
   "metadata": {},
   "outputs": [],
   "source": [
    "#Preprocessing, normalize data\n",
    "class Normalize:\n",
    "    def __init__(self):\n",
    "        self.mean = None\n",
    "        self.std = None\n",
    "    \n",
    "    def fit(self, X):\n",
    "        self.mean = np.mean(X)\n",
    "        self.std = np.std(X)\n",
    "        \n",
    "    def normalize(self, X):\n",
    "        X -= self.mean\n",
    "        X /= self.std\n",
    "        return X"
   ]
  },
  {
   "cell_type": "code",
   "execution_count": 40,
   "metadata": {},
   "outputs": [],
   "source": [
    "imgs = imagearray.copy()\n",
    "lbls = labels.copy()\n",
    "test_imgs = test_imagearray.copy()\n",
    "test_lbls = test_labels.copy()\n",
    "\n",
    "imgs.flags.writeable = True\n",
    "imgs = imgs.astype(np.float64)\n",
    "test_imgs.flags.writeable = True\n",
    "test_imgs = test_imgs.astype(np.float64)\n",
    "\n",
    "scale = Normalize()\n",
    "scale.fit(imgs)\n",
    "\n",
    "imgs = scale.normalize(imgs)\n",
    "test_imgs = scale.normalize(test_imgs)\n"
   ]
  },
  {
   "cell_type": "code",
   "execution_count": 41,
   "metadata": {},
   "outputs": [
    {
     "data": {
      "text/plain": [
       "<matplotlib.image.AxesImage at 0x7f81713d3c50>"
      ]
     },
     "execution_count": 41,
     "metadata": {},
     "output_type": "execute_result"
    },
    {
     "data": {
      "image/png": "[encoded data removed]",
      "text/plain": [
       "<Figure size 432x288 with 1 Axes>"
      ]
     },
     "metadata": {
      "needs_background": "light"
     },
     "output_type": "display_data"
    }
   ],
   "source": [
    "plt.imshow(imgs[30], cmap=plt.cm.binary)"
   ]
  },
  {
   "cell_type": "code",
   "execution_count": 30,
   "metadata": {},
   "outputs": [],
   "source": [
    "#Split training data into training and validation sets\n",
    "def train_val_split(X, y, percent=85):\n",
    "    percent = float(percent)\n",
    "    if(percent > 1): \n",
    "        percent = percent/100\n",
    "    assert X.shape[0] == y.shape[0]\n",
    "    idxs = np.random.permutation(y.shape[0])\n",
    "    i = int(percent*y.shape[0])\n",
    "    train_X, train_y = X[0: i], y[0: i]\n",
    "    val_X, val_y = X[i:], y[i:]\n",
    "    return train_X, train_y, val_X, val_y"
   ]
  },
  {
   "cell_type": "code",
   "execution_count": 31,
   "metadata": {},
   "outputs": [],
   "source": [
    "train_X, train_y, val_X, val_y = train_val_split(imgs, lbls)"
   ]
  },
  {
   "cell_type": "code",
   "execution_count": 43,
   "metadata": {},
   "outputs": [],
   "source": [
    "#Store all hyperparameters here\n",
    "hyperparams = {\n",
    "    'batch_size': 50,\n",
    "    'learning_rate': 1e-4,\n",
    "    'num_epochs': 50,\n",
    "}"
   ]
  },
  {
   "cell_type": "code",
   "execution_count": 44,
   "metadata": {},
   "outputs": [],
   "source": [
    "#Define data loaders to cooperate with torch training loop\n",
    "train_dataset = torch.utils.data.TensorDataset(torch.from_numpy(train_X), torch.from_numpy(train_y))\n",
    "val_dataset = torch.utils.data.TensorDataset(torch.from_numpy(val_X), torch.from_numpy(val_y))\n",
    "tr_loader = torch.utils.data.DataLoader(train_dataset, batch_size=hyperparams['batch_size'], shuffle=True)\n",
    "val_loader = torch.utils.data.DataLoader(val_dataset, batch_size=hyperparams['batch_size'], shuffle=False)\n",
    "\n",
    "#Do we need to define a Dataset & DataLoader for the test dataset?\n",
    "test_dataset = torch.utils.data.TensorDataset(torch.from_numpy(test_imgs), torch.from_numpy(test_lbls))\n",
    "test_loader = torch.utils.data.DataLoader(test_dataset)"
   ]
  },
  {
   "cell_type": "code",
   "execution_count": 49,
   "metadata": {},
   "outputs": [],
   "source": [
    "#Define CNN architecture\n",
    "class CNN(nn.Module):\n",
    "    def __init__(self):\n",
    "        super().__init__()\n",
    "        \n",
    "        self.conv1 = nn.Conv2d(1, 5, 5, 2)\n",
    "        self.conv2 = nn.Conv2d(5, 50, 5, 2)\n",
    "        \n",
    "        self.fc1 = nn.Linear(1250, 100)\n",
    "        self.fc1 = nn.Linear(100, 32)\n",
    "        self.fc3 = nn.Linear(32, 10)\n",
    "    \n",
    "    def forward(self, x):\n",
    "        \n",
    "        #Conv layer 1\n",
    "        x = F.relu(self.conv1(x))\n",
    "        \n",
    "        #Conv layer 2\n",
    "        x = F.relu(self.conv2(x))\n",
    "        \n",
    "        #Flatten\n",
    "        x = x.view(-1, 1250)\n",
    "        \n",
    "        #Fully connected 1\n",
    "        x = F.relu(self.fc1(x))\n",
    "        \n",
    "        #Fully connected 2\n",
    "        x = F.relu(self.fc2(x))\n",
    "        \n",
    "        #Fully connected 3, (does not apply softmax... yet)\n",
    "        x = self.fc3(x)\n",
    "        \n",
    "        return x\n",
    "\n",
    "#Apply softmax to get predicted label\n",
    "def predict(network_output):\n",
    "    \n",
    "    assert network_output.shape[1] == 10\n",
    "    \n",
    "    pred = F.softmax(network_output, 1)\n",
    "    \n",
    "    return torch.argmax(pred, dim=1)\n",
    "\n",
    "#Load and save model funcs from state_dict\n",
    "def save(model, path):\n",
    "    torch.save(model.state_dict(), path)\n",
    "    \n",
    "def load(path, eval_mode = False):\n",
    "    model = CNN()\n",
    "    model.load_state_dict(torch.load(path))\n",
    "    if eval_mode:\n",
    "        model.eval()   \n",
    "    return model\n",
    "    "
   ]
  },
  {
   "cell_type": "code",
   "execution_count": null,
   "metadata": {},
   "outputs": [],
   "source": [
    "#training loop\n",
    "model = CNN()\n",
    "criterion = nn.CrossEntropyLoss()\n",
    "optim = torch.optim.Adam(model.parameters(), lr=hyperparams['learning_rate'])\n",
    "\n",
    "train_loss = []\n",
    "val_loss = []\n",
    "train_acc = []\n",
    "val_acc = []\n",
    "\n",
    "for epoch in range(hyperparam['num_epochs']):\n",
    "    \n",
    "    #Evaluate training batch\n",
    "    for i, X, y in enumerate(tr_loader):\n",
    "        \n",
    "        #Zero out gradients\n",
    "        optim.zero_grad()\n",
    "        \n",
    "        \n",
    "        #Forward pass of training batch\n",
    "        output = model(X)\n",
    "        \n",
    "        #Compute loss of batch\n",
    "        loss = criterion(output, y)\n",
    "        \n",
    "        #Calculate gradients (backprop)\n",
    "        loss.backward()\n",
    "        \n",
    "        #Update parameters (ADAM)\n",
    "        optimizer.step()\n",
    "    \n",
    "   \n",
    "    \n",
    "    \n",
    "    #Evaluate training AND validation accuracy && loss\n",
    "    y_true, y_pred = [], []\n",
    "    correct, total = 0.0, 0.0\n",
    "    running_loss = []\n",
    "    \n",
    "    for X, y in tr_loader:\n",
    "        with torch.no_grad():\n",
    "            output = Model(X)\n",
    "            preds = predict(output)\n",
    "            \n",
    "            y_true.append(y)\n",
    "            y_pred.append(preds)\n",
    "            \n",
    "            total += y.size(0)\n",
    "            correct += (predicted == y).sum().item()\n",
    "            \n",
    "            running_loss.append(criterion(output, y).item())\n",
    "    \n",
    "    train_loss.append(np.mean(running_loss))\n",
    "    train_acc.append(correct/total)\n",
    "    \n",
    "    y_true, y_pred = [], []\n",
    "    correct, total = 0.0, 0.0\n",
    "    running_loss = []\n",
    "    for X, y in val_loader:\n",
    "        with torch.no_grad():\n",
    "            output = Model(X)\n",
    "            preds = predict(output)\n",
    "            \n",
    "            y_true.append(y)\n",
    "            y_pred.append(preds)\n",
    "            \n",
    "            total += y.size(0)\n",
    "            correct += (predicted == y).sum().item()\n",
    "            \n",
    "            running_loss.append(criterion(output, y).item())\n",
    "    \n",
    "    val_loss.append(np.mean(running_loss))\n",
    "    val_acc.append(correct/total)\n",
    "    \n",
    "    #Save model\n",
    "    save(model, f'eo')"
   ]
  }
 ],
 "metadata": {
  "kernelspec": {
   "display_name": "Python 3",
   "language": "python",
   "name": "python3"
  },
  "language_info": {
   "codemirror_mode": {
    "name": "ipython",
    "version": 3
   },
   "file_extension": ".py",
   "mimetype": "text/x-python",
   "name": "python",
   "nbconvert_exporter": "python",
   "pygments_lexer": "ipython3",
   "version": "3.7.9"
  }
 },
 "nbformat": 4,
 "nbformat_minor": 4
}
